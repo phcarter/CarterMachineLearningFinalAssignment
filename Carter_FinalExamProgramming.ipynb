{
 "cells": [
  {
   "cell_type": "code",
   "execution_count": 2,
   "id": "ffa534d6",
   "metadata": {},
   "outputs": [],
   "source": [
    "import numpy as np\n",
    "import pandas as pd\n",
    "from skimage.transform import resize\n",
    "from skimage.io import imread\n",
    "\n",
    "import os\n",
    "import matplotlib.pyplot as plt\n",
    "\n",
    "import pickle\n",
    "import warnings\n",
    "warnings.simplefilter(\"ignore\")"
   ]
  },
  {
   "cell_type": "code",
   "execution_count": 3,
   "id": "bd9dfdce",
   "metadata": {},
   "outputs": [
    {
     "name": "stdout",
     "output_type": "stream",
     "text": [
      "loading... category:  ChickenHead\n",
      "loaded category  ChickenHead successfully\n",
      "loading... category:  ElephantHead\n",
      "loaded category  ElephantHead successfully\n"
     ]
    }
   ],
   "source": [
    "datadir = 'images/'\n",
    "categories = ['ChickenHead', 'ElephantHead']\n",
    "\n",
    "flat_data_arr = []\n",
    "target_arr = []\n",
    "\n",
    "for i in categories:\n",
    "    print ('loading... category: ', i)\n",
    "    path = os.path.join (datadir, i)\n",
    "    for img in os.listdir (path):\n",
    "        img_array = imread (os.path.join (path, img))\n",
    "        img_resized = resize (img_array, (150, 150, 3))\n",
    "        flat_data_arr.append (img_resized.flatten())\n",
    "        target_arr.append (categories.index(i))\n",
    "    print (\"loaded category \", i, \"successfully\") "
   ]
  },
  {
   "cell_type": "code",
   "execution_count": 4,
   "id": "2af03230",
   "metadata": {},
   "outputs": [
    {
     "data": {
      "text/html": [
       "<div>\n",
       "<style scoped>\n",
       "    .dataframe tbody tr th:only-of-type {\n",
       "        vertical-align: middle;\n",
       "    }\n",
       "\n",
       "    .dataframe tbody tr th {\n",
       "        vertical-align: top;\n",
       "    }\n",
       "\n",
       "    .dataframe thead th {\n",
       "        text-align: right;\n",
       "    }\n",
       "</style>\n",
       "<table border=\"1\" class=\"dataframe\">\n",
       "  <thead>\n",
       "    <tr style=\"text-align: right;\">\n",
       "      <th></th>\n",
       "      <th>0</th>\n",
       "      <th>1</th>\n",
       "      <th>2</th>\n",
       "      <th>3</th>\n",
       "      <th>4</th>\n",
       "      <th>5</th>\n",
       "      <th>6</th>\n",
       "      <th>7</th>\n",
       "      <th>8</th>\n",
       "      <th>9</th>\n",
       "      <th>...</th>\n",
       "      <th>67491</th>\n",
       "      <th>67492</th>\n",
       "      <th>67493</th>\n",
       "      <th>67494</th>\n",
       "      <th>67495</th>\n",
       "      <th>67496</th>\n",
       "      <th>67497</th>\n",
       "      <th>67498</th>\n",
       "      <th>67499</th>\n",
       "      <th>Target</th>\n",
       "    </tr>\n",
       "  </thead>\n",
       "  <tbody>\n",
       "    <tr>\n",
       "      <th>0</th>\n",
       "      <td>0.258824</td>\n",
       "      <td>0.258824</td>\n",
       "      <td>0.219608</td>\n",
       "      <td>0.231373</td>\n",
       "      <td>0.231373</td>\n",
       "      <td>0.192157</td>\n",
       "      <td>0.168627</td>\n",
       "      <td>0.168627</td>\n",
       "      <td>0.129412</td>\n",
       "      <td>0.180392</td>\n",
       "      <td>...</td>\n",
       "      <td>0.321569</td>\n",
       "      <td>0.321569</td>\n",
       "      <td>0.290196</td>\n",
       "      <td>0.301961</td>\n",
       "      <td>0.301961</td>\n",
       "      <td>0.270588</td>\n",
       "      <td>0.290196</td>\n",
       "      <td>0.290196</td>\n",
       "      <td>0.258824</td>\n",
       "      <td>0</td>\n",
       "    </tr>\n",
       "    <tr>\n",
       "      <th>1</th>\n",
       "      <td>0.121569</td>\n",
       "      <td>0.227451</td>\n",
       "      <td>0.105882</td>\n",
       "      <td>0.129412</td>\n",
       "      <td>0.227451</td>\n",
       "      <td>0.113725</td>\n",
       "      <td>0.176471</td>\n",
       "      <td>0.254902</td>\n",
       "      <td>0.149020</td>\n",
       "      <td>0.219608</td>\n",
       "      <td>...</td>\n",
       "      <td>0.784314</td>\n",
       "      <td>0.670588</td>\n",
       "      <td>0.513725</td>\n",
       "      <td>0.772549</td>\n",
       "      <td>0.658824</td>\n",
       "      <td>0.501961</td>\n",
       "      <td>0.768627</td>\n",
       "      <td>0.654902</td>\n",
       "      <td>0.498039</td>\n",
       "      <td>0</td>\n",
       "    </tr>\n",
       "    <tr>\n",
       "      <th>2</th>\n",
       "      <td>0.415686</td>\n",
       "      <td>0.698039</td>\n",
       "      <td>0.258824</td>\n",
       "      <td>0.384314</td>\n",
       "      <td>0.666667</td>\n",
       "      <td>0.235294</td>\n",
       "      <td>0.349020</td>\n",
       "      <td>0.619608</td>\n",
       "      <td>0.203922</td>\n",
       "      <td>0.321569</td>\n",
       "      <td>...</td>\n",
       "      <td>0.423529</td>\n",
       "      <td>0.615686</td>\n",
       "      <td>0.266667</td>\n",
       "      <td>0.435294</td>\n",
       "      <td>0.627451</td>\n",
       "      <td>0.270588</td>\n",
       "      <td>0.380392</td>\n",
       "      <td>0.572549</td>\n",
       "      <td>0.215686</td>\n",
       "      <td>0</td>\n",
       "    </tr>\n",
       "    <tr>\n",
       "      <th>3</th>\n",
       "      <td>0.000000</td>\n",
       "      <td>0.000000</td>\n",
       "      <td>0.000000</td>\n",
       "      <td>0.000000</td>\n",
       "      <td>0.000000</td>\n",
       "      <td>0.000000</td>\n",
       "      <td>0.000000</td>\n",
       "      <td>0.000000</td>\n",
       "      <td>0.000000</td>\n",
       "      <td>0.000000</td>\n",
       "      <td>...</td>\n",
       "      <td>0.000000</td>\n",
       "      <td>0.000000</td>\n",
       "      <td>0.000000</td>\n",
       "      <td>0.000000</td>\n",
       "      <td>0.000000</td>\n",
       "      <td>0.000000</td>\n",
       "      <td>0.000000</td>\n",
       "      <td>0.000000</td>\n",
       "      <td>0.000000</td>\n",
       "      <td>0</td>\n",
       "    </tr>\n",
       "    <tr>\n",
       "      <th>4</th>\n",
       "      <td>0.784314</td>\n",
       "      <td>0.729412</td>\n",
       "      <td>0.623529</td>\n",
       "      <td>0.776471</td>\n",
       "      <td>0.721569</td>\n",
       "      <td>0.615686</td>\n",
       "      <td>0.737255</td>\n",
       "      <td>0.682353</td>\n",
       "      <td>0.576471</td>\n",
       "      <td>0.690196</td>\n",
       "      <td>...</td>\n",
       "      <td>0.717647</td>\n",
       "      <td>0.643137</td>\n",
       "      <td>0.517647</td>\n",
       "      <td>0.725490</td>\n",
       "      <td>0.650980</td>\n",
       "      <td>0.525490</td>\n",
       "      <td>0.721569</td>\n",
       "      <td>0.647059</td>\n",
       "      <td>0.521569</td>\n",
       "      <td>0</td>\n",
       "    </tr>\n",
       "  </tbody>\n",
       "</table>\n",
       "<p>5 rows × 67501 columns</p>\n",
       "</div>"
      ],
      "text/plain": [
       "          0         1         2         3         4         5         6  \\\n",
       "0  0.258824  0.258824  0.219608  0.231373  0.231373  0.192157  0.168627   \n",
       "1  0.121569  0.227451  0.105882  0.129412  0.227451  0.113725  0.176471   \n",
       "2  0.415686  0.698039  0.258824  0.384314  0.666667  0.235294  0.349020   \n",
       "3  0.000000  0.000000  0.000000  0.000000  0.000000  0.000000  0.000000   \n",
       "4  0.784314  0.729412  0.623529  0.776471  0.721569  0.615686  0.737255   \n",
       "\n",
       "          7         8         9  ...     67491     67492     67493     67494  \\\n",
       "0  0.168627  0.129412  0.180392  ...  0.321569  0.321569  0.290196  0.301961   \n",
       "1  0.254902  0.149020  0.219608  ...  0.784314  0.670588  0.513725  0.772549   \n",
       "2  0.619608  0.203922  0.321569  ...  0.423529  0.615686  0.266667  0.435294   \n",
       "3  0.000000  0.000000  0.000000  ...  0.000000  0.000000  0.000000  0.000000   \n",
       "4  0.682353  0.576471  0.690196  ...  0.717647  0.643137  0.517647  0.725490   \n",
       "\n",
       "      67495     67496     67497     67498     67499  Target  \n",
       "0  0.301961  0.270588  0.290196  0.290196  0.258824       0  \n",
       "1  0.658824  0.501961  0.768627  0.654902  0.498039       0  \n",
       "2  0.627451  0.270588  0.380392  0.572549  0.215686       0  \n",
       "3  0.000000  0.000000  0.000000  0.000000  0.000000       0  \n",
       "4  0.650980  0.525490  0.721569  0.647059  0.521569       0  \n",
       "\n",
       "[5 rows x 67501 columns]"
      ]
     },
     "execution_count": 4,
     "metadata": {},
     "output_type": "execute_result"
    }
   ],
   "source": [
    "flat_data = np.array (flat_data_arr)\n",
    "target = np.array (target_arr)\n",
    "\n",
    "df = pd.DataFrame (flat_data)\n",
    "df['Target'] = target\n",
    "\n",
    "df.head()"
   ]
  },
  {
   "cell_type": "code",
   "execution_count": 5,
   "id": "1b2b1877",
   "metadata": {},
   "outputs": [],
   "source": [
    "from sklearn.model_selection import train_test_split\n",
    "X = df.values[:, :-1]\n",
    "Y = df.values[:, -1]\n",
    "\n",
    "x_train, x_test, y_train, y_test = train_test_split (X, Y, test_size=0.2, random_state=47)"
   ]
  },
  {
   "cell_type": "markdown",
   "id": "edcb816a",
   "metadata": {},
   "source": [
    "## Random Forest"
   ]
  },
  {
   "cell_type": "code",
   "execution_count": 51,
   "id": "5ed9afb7",
   "metadata": {},
   "outputs": [
    {
     "name": "stdout",
     "output_type": "stream",
     "text": [
      "Accuracy: 0.95\n"
     ]
    }
   ],
   "source": [
    "from sklearn.ensemble import RandomForestClassifier\n",
    "from sklearn.metrics import accuracy_score\n",
    "\n",
    "rf = RandomForestClassifier (n_estimators = 50)\n",
    "rf.fit (x_train, y_train)\n",
    "y_pred = rf.predict (x_test)\n",
    "a = accuracy_score (y_pred, y_test)\n",
    "print (\"Accuracy:\", a)"
   ]
  },
  {
   "cell_type": "code",
   "execution_count": 54,
   "id": "773e193c",
   "metadata": {},
   "outputs": [],
   "source": [
    "file = open(\"randomForestModel.pkl\", \"wb\")\n",
    "pickle.dump (rf, file)"
   ]
  },
  {
   "cell_type": "code",
   "execution_count": 55,
   "id": "60dda252",
   "metadata": {},
   "outputs": [],
   "source": [
    "file2 = open(\"randomForestModel.pkl\", 'rb')\n",
    "rf2 = pickle.load(file2)"
   ]
  },
  {
   "cell_type": "code",
   "execution_count": 56,
   "id": "0c545f5b",
   "metadata": {},
   "outputs": [],
   "source": [
    "filename = 'chicken1.png'\n",
    "\n",
    "img_array = imread (filename)\n",
    "img_resized = resize (img_array, (150, 150, 3))\n",
    "test_data = np.array (img_resized.flatten())\n",
    "test_data = test_data.reshape(1, -1)"
   ]
  },
  {
   "cell_type": "code",
   "execution_count": 60,
   "id": "ac733dc2",
   "metadata": {},
   "outputs": [
    {
     "name": "stdout",
     "output_type": "stream",
     "text": [
      "Chicken\n"
     ]
    }
   ],
   "source": [
    "p = rf2.predict (test_data)\n",
    "if p==0: print ('Elephant')\n",
    "else: print ('Chicken')"
   ]
  },
  {
   "cell_type": "markdown",
   "id": "82bfacff",
   "metadata": {},
   "source": [
    "## Support Vector Machine"
   ]
  },
  {
   "cell_type": "code",
   "execution_count": 13,
   "id": "268ceba9",
   "metadata": {},
   "outputs": [
    {
     "name": "stdout",
     "output_type": "stream",
     "text": [
      "Accuracy: 0.95\n"
     ]
    }
   ],
   "source": [
    "from sklearn.svm import SVC\n",
    "\n",
    "svc = SVC (kernel='linear', C=1.0)\n",
    "svc.fit(x_train, y_train)\n",
    "y_pred2 = svc.predict (x_test)\n",
    "a2 = accuracy_score (y_pred2, y_test)\n",
    "print (\"Accuracy:\", a2)"
   ]
  },
  {
   "cell_type": "code",
   "execution_count": 63,
   "id": "b8b2894d",
   "metadata": {},
   "outputs": [],
   "source": [
    "file = open(\"supportVectorMachineModel.pkl\", \"wb\")\n",
    "pickle.dump (svc, file)"
   ]
  },
  {
   "cell_type": "code",
   "execution_count": 64,
   "id": "e2c62d3b",
   "metadata": {},
   "outputs": [],
   "source": [
    "file2 = open(\"supportVectorMachineModel.pkl\", 'rb')\n",
    "svc2 = pickle.load(file2)"
   ]
  },
  {
   "cell_type": "code",
   "execution_count": 111,
   "id": "8e3b2a77",
   "metadata": {},
   "outputs": [],
   "source": [
    "filename = 'chicken3.jpg'\n",
    "\n",
    "img_array = imread (filename)\n",
    "img_resized = resize (img_array, (150, 150, 3))\n",
    "test_data = np.array (img_resized.flatten())\n",
    "test_data = test_data.reshape(1, -1)"
   ]
  },
  {
   "cell_type": "code",
   "execution_count": 112,
   "id": "5cc079f5",
   "metadata": {},
   "outputs": [
    {
     "name": "stdout",
     "output_type": "stream",
     "text": [
      "Chicken\n"
     ]
    }
   ],
   "source": [
    "p = svc2.predict (test_data)\n",
    "if p==0: print ('Chicken')\n",
    "else: print ('Elephant')"
   ]
  },
  {
   "cell_type": "markdown",
   "id": "89b3972b",
   "metadata": {},
   "source": [
    "## Adaboost"
   ]
  },
  {
   "cell_type": "code",
   "execution_count": 20,
   "id": "69f1948d",
   "metadata": {},
   "outputs": [
    {
     "name": "stdout",
     "output_type": "stream",
     "text": [
      "Accuracy: 0.925\n"
     ]
    }
   ],
   "source": [
    "from sklearn.ensemble import AdaBoostClassifier\n",
    "\n",
    "ab = AdaBoostClassifier(n_estimators = 25)\n",
    "ab.fit(x_train, y_train)\n",
    "y_pred3 = ab.predict (x_test)\n",
    "a3 = accuracy_score (y_pred3, y_test)\n",
    "print (\"Accuracy:\", a3)"
   ]
  },
  {
   "cell_type": "code",
   "execution_count": 21,
   "id": "9406deba",
   "metadata": {},
   "outputs": [],
   "source": [
    "file = open(\"AdaboostModel.pkl\", \"wb\")\n",
    "pickle.dump (ab, file)"
   ]
  },
  {
   "cell_type": "code",
   "execution_count": 22,
   "id": "fa967edd",
   "metadata": {},
   "outputs": [],
   "source": [
    "file2 = open(\"AdaboostModel.pkl\", 'rb')\n",
    "ab2 = pickle.load(file2)"
   ]
  },
  {
   "cell_type": "code",
   "execution_count": 113,
   "id": "d9b69b59",
   "metadata": {},
   "outputs": [],
   "source": [
    "filename = 'elephent1.jpg'\n",
    "\n",
    "img_array = imread (filename)\n",
    "img_resized = resize (img_array, (150, 150, 3))\n",
    "test_data = np.array (img_resized.flatten())\n",
    "test_data = test_data.reshape(1, -1)"
   ]
  },
  {
   "cell_type": "code",
   "execution_count": 114,
   "id": "fe5d900d",
   "metadata": {},
   "outputs": [
    {
     "name": "stdout",
     "output_type": "stream",
     "text": [
      "Elephant\n"
     ]
    }
   ],
   "source": [
    "p = ab2.predict (test_data)\n",
    "if p==0: print ('Chicken')\n",
    "else: print ('Elephant')"
   ]
  },
  {
   "cell_type": "markdown",
   "id": "b1dab343",
   "metadata": {},
   "source": [
    "## KNN"
   ]
  },
  {
   "cell_type": "code",
   "execution_count": 96,
   "id": "a556c634",
   "metadata": {},
   "outputs": [
    {
     "name": "stdout",
     "output_type": "stream",
     "text": [
      "Accuracy: 0.925\n"
     ]
    }
   ],
   "source": [
    "from sklearn.neighbors import KNeighborsClassifier\n",
    "\n",
    "knn = KNeighborsClassifier (n_neighbors = 2)\n",
    "knn.fit(x_train, y_train)\n",
    "y_pred4 = knn.predict (x_test)\n",
    "a4 = accuracy_score (y_pred4, y_test)\n",
    "print (\"Accuracy:\", a4)"
   ]
  },
  {
   "cell_type": "code",
   "execution_count": 97,
   "id": "53c29ad4",
   "metadata": {},
   "outputs": [],
   "source": [
    "file = open(\"KNN.pkl\", \"wb\")\n",
    "pickle.dump (knn, file)"
   ]
  },
  {
   "cell_type": "code",
   "execution_count": 98,
   "id": "8b840d90",
   "metadata": {},
   "outputs": [],
   "source": [
    "file2 = open(\"KNN.pkl\", 'rb')\n",
    "knn2 = pickle.load(file2)"
   ]
  },
  {
   "cell_type": "code",
   "execution_count": 107,
   "id": "532906f8",
   "metadata": {},
   "outputs": [],
   "source": [
    "filename = 'chicken2.jpg'\n",
    "\n",
    "img_array = imread (filename)\n",
    "img_resized = resize (img_array, (150, 150, 3))\n",
    "test_data = np.array (img_resized.flatten())\n",
    "test_data = test_data.reshape(1, -1)"
   ]
  },
  {
   "cell_type": "code",
   "execution_count": 108,
   "id": "3b89cd79",
   "metadata": {},
   "outputs": [
    {
     "name": "stdout",
     "output_type": "stream",
     "text": [
      "Chicken\n"
     ]
    }
   ],
   "source": [
    "p = knn2.predict (test_data)\n",
    "if p==0: print ('Chicken')\n",
    "else: print ('Elephant')"
   ]
  },
  {
   "cell_type": "markdown",
   "id": "c7cabbb2",
   "metadata": {},
   "source": [
    "## Neural Network"
   ]
  },
  {
   "cell_type": "code",
   "execution_count": 115,
   "id": "b0fcf89e",
   "metadata": {},
   "outputs": [
    {
     "name": "stdout",
     "output_type": "stream",
     "text": [
      "Accuracy: 0.4\n"
     ]
    }
   ],
   "source": [
    "from sklearn.neural_network import MLPClassifier\n",
    "\n",
    "r = MLPClassifier (hidden_layer_sizes = (2,), activation = 'relu', solver = 'adam', max_iter = 500)\n",
    "r.fit (x_train, y_train)\n",
    "y_pred5 = r.predict (x_test)\n",
    "a5 = accuracy_score (y_pred5, y_test)\n",
    "print (\"Accuracy:\", a5)"
   ]
  },
  {
   "cell_type": "code",
   "execution_count": 118,
   "id": "4165d713",
   "metadata": {},
   "outputs": [],
   "source": [
    "file = open(\"neuralNetwork.pkl\", \"wb\")\n",
    "pickle.dump (r, file)"
   ]
  },
  {
   "cell_type": "code",
   "execution_count": 119,
   "id": "c4539740",
   "metadata": {},
   "outputs": [],
   "source": [
    "file2 = open(\"neuralNetwork.pkl\", 'rb')\n",
    "r2 = pickle.load(file2)"
   ]
  },
  {
   "cell_type": "code",
   "execution_count": 120,
   "id": "123ef25b",
   "metadata": {},
   "outputs": [],
   "source": [
    "filename = 'elephent2.jpg'\n",
    "\n",
    "img_array = imread (filename)\n",
    "img_resized = resize (img_array, (150, 150, 3))\n",
    "test_data = np.array (img_resized.flatten())\n",
    "test_data = test_data.reshape(1, -1)"
   ]
  },
  {
   "cell_type": "code",
   "execution_count": 121,
   "id": "50bd17c6",
   "metadata": {},
   "outputs": [
    {
     "name": "stdout",
     "output_type": "stream",
     "text": [
      "Elephant\n"
     ]
    }
   ],
   "source": [
    "p = r2.predict (test_data)\n",
    "if p==0: print ('Chicken')\n",
    "else: print ('Elephant')"
   ]
  },
  {
   "cell_type": "code",
   "execution_count": null,
   "id": "b9e9f4aa",
   "metadata": {},
   "outputs": [],
   "source": []
  }
 ],
 "metadata": {
  "kernelspec": {
   "display_name": "Python 3 (ipykernel)",
   "language": "python",
   "name": "python3"
  },
  "language_info": {
   "codemirror_mode": {
    "name": "ipython",
    "version": 3
   },
   "file_extension": ".py",
   "mimetype": "text/x-python",
   "name": "python",
   "nbconvert_exporter": "python",
   "pygments_lexer": "ipython3",
   "version": "3.9.13"
  }
 },
 "nbformat": 4,
 "nbformat_minor": 5
}
